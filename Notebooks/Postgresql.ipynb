{
 "cells": [
  {
   "cell_type": "code",
   "execution_count": 7,
   "metadata": {},
   "outputs": [
    {
     "name": "stdout",
     "output_type": "stream",
     "text": [
      "Conexión exitosa a la base de datos PostgreSQL\n",
      "Versión de PostgreSQL: PostgreSQL 16.6 (Ubuntu 16.6-0ubuntu0.24.04.1) on x86_64-pc-linux-gnu, compiled by gcc (Ubuntu 13.2.0-23ubuntu4) 13.2.0, 64-bit\n",
      "Conexión cerrada\n"
     ]
    }
   ],
   "source": [
    "import psycopg2\n",
    "\n",
    "# Configuración de la conexión\n",
    "host = \"192.168.0.12\"       # Dirección del servidor (localhost si está en tu máquina)\n",
    "dbname = \"db_mto\" # Nombre de la base de datos\n",
    "user = \"apsa\"      # Usuario de PostgreSQL\n",
    "password = \"Apsa2812p.\"    # Contraseña del usuario\n",
    "port = 5432              # Puerto por defecto de PostgreSQL\n",
    "\n",
    "try:\n",
    "    # Establecer la conexión\n",
    "    conexion = psycopg2.connect(\n",
    "        host=host,\n",
    "        dbname=dbname,\n",
    "        user=user,\n",
    "        password=password,\n",
    "        port=port\n",
    "    )\n",
    "    print(\"Conexión exitosa a la base de datos PostgreSQL\")\n",
    "\n",
    "    # Crear un cursor para ejecutar consultas SQL\n",
    "    cursor = conexion.cursor()\n",
    "\n",
    "    # Ejemplo de una consulta simple\n",
    "    cursor.execute(\"SELECT version();\")\n",
    "    version = cursor.fetchone()\n",
    "    print(\"Versión de PostgreSQL:\", version[0])\n",
    "\n",
    "    # Cerrar el cursor y la conexión\n",
    "    cursor.close()\n",
    "    conexion.close()\n",
    "    print(\"Conexión cerrada\")\n",
    "\n",
    "except psycopg2.Error as e:\n",
    "    print(\"Error al conectar a la base de datos:\", e)\n"
   ]
  }
 ],
 "metadata": {
  "kernelspec": {
   "display_name": ".venv",
   "language": "python",
   "name": "python3"
  },
  "language_info": {
   "codemirror_mode": {
    "name": "ipython",
    "version": 3
   },
   "file_extension": ".py",
   "mimetype": "text/x-python",
   "name": "python",
   "nbconvert_exporter": "python",
   "pygments_lexer": "ipython3",
   "version": "3.12.8"
  }
 },
 "nbformat": 4,
 "nbformat_minor": 2
}
