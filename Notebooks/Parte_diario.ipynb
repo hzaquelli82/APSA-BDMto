{
 "cells": [
  {
   "cell_type": "markdown",
   "metadata": {},
   "source": [
    "## Conexión JVP"
   ]
  },
  {
   "cell_type": "code",
   "execution_count": 7,
   "metadata": {},
   "outputs": [],
   "source": [
    "import mysql.connector\n",
    "import pandas as pd\n",
    "from datetime import datetime\n",
    "\n",
    "db = mysql.connector.connect(host=\"192.168.0.12\",    #  host\n",
    "                     user=\"operario\",         #  usuario\n",
    "                     passwd=\"\",  #  password\n",
    "                     db=\"dbp8100\")        #  nombre de la base de datos\n",
    "\n",
    "cur = db.cursor()\n"
   ]
  },
  {
   "cell_type": "code",
   "execution_count": 8,
   "metadata": {},
   "outputs": [
    {
     "name": "stdout",
     "output_type": "stream",
     "text": [
      "      NroID  Codigo                                Nombre  VT\n",
      "0        35    None           FIBROMIXER 300  19% A.A. -1   0\n",
      "1        36     3-K     VACA LECHERA 16% anulada no hacer   0\n",
      "2        39  07-009  DEST. PRECOZ MEL. 0%A.A CASC DE SOJA   0\n",
      "3        40  08-020          INICIADOR MELAZA (21 %A.A.)    0\n",
      "4        41    09-H            C.M. URUGUAY REFORZADO 10%   0\n",
      "...     ...     ...                                   ...  ..\n",
      "1156   1254  09-141     CRE. MELAZA 10% A.A. (Los Roanos)   1\n",
      "1157   1255  FP0028      MEZCLA AUTOCONSUMO (SUÑE MIGUEL)   1\n",
      "1158   1256  FP0029             DESTETE PRECOZ I  (Gepsa)   1\n",
      "1159   1257  FP0030                     TERNEROS  (Gepsa)   1\n",
      "1160   1258  FP0031           CONCENTRADO VACUNOS (Gepsa)   1\n",
      "\n",
      "[1161 rows x 4 columns]\n"
     ]
    }
   ],
   "source": [
    "# Extraer Fórmulas activas\n",
    "# Datos mysql\n",
    "cur.execute('''\n",
    "            SELECT NroID, Codigo, Nombre, VT FROM dbp8100.formulas;''')\n",
    "resultados = cur.fetchall()\n",
    "# Obtener los nombres de las columnas\n",
    "columnas = [desc[0] for desc in cur.description]\n",
    "\n",
    "# Crear un DataFrame de pandas\n",
    "df = pd.DataFrame(resultados, columns=columnas)\n",
    "\n",
    "# Cerrar el cursor y la conexión\n",
    "cur.close()\n",
    "db.close()\n",
    "\n",
    "# Mostrar el DataFrame\n",
    "print(df)"
   ]
  },
  {
   "cell_type": "code",
   "execution_count": 20,
   "metadata": {},
   "outputs": [
    {
     "name": "stdout",
     "output_type": "stream",
     "text": [
      "Data inserted successfully!\n",
      "PostgreSQL connection is closed\n"
     ]
    }
   ],
   "source": [
    "import psycopg2\n",
    "import pandas as pd\n",
    "\n",
    "# Replace with your actual database credentials\n",
    "DB_HOST = \"192.168.0.12\"\n",
    "DB_NAME = \"db_mto\"\n",
    "DB_USER = \"apsa\"\n",
    "DB_PASSWORD = \"Apsa2812p.\"\n",
    "DB_PORT = \"5432\" # Often 5432\n",
    "\n",
    "\n",
    "try:\n",
    "    # Establish a connection to the PostgreSQL database\n",
    "    conn = psycopg2.connect(host=DB_HOST, database=DB_NAME, user=DB_USER, password=DB_PASSWORD, port=DB_PORT)\n",
    "    cur = conn.cursor()\n",
    "\n",
    "    # Load the DataFrame (assuming it's already loaded from Parte_diario.ipynb)\n",
    "    #  Replace 'df' with the actual name of your DataFrame if different.\n",
    "    #df = pd.read_csv(\"your_data.csv\") #Example if you need to load it from a file.\n",
    "\n",
    "\n",
    "    # Create the table if it doesn't exist.  Adjust column types as needed.\n",
    "    # This assumes your DataFrame has columns named 'column1', 'column2', etc.\n",
    "    # Replace with the actual column names and data types from your DataFrame.\n",
    "    create_table_query = \"\"\"\n",
    "        CREATE TABLE IF NOT EXISTS formulaS (\n",
    "            nroid INT PRIMARY KEY,\n",
    "            codigo VARCHAR(20),\n",
    "            nombre VARCHAR(100),\n",
    "            vt SMALLINT\n",
    "        );\n",
    "    \"\"\"\n",
    "    cur.execute(create_table_query)\n",
    "\n",
    "\n",
    "    # Insert data from the DataFrame into the table\n",
    "    for index, row in df.iterrows():\n",
    "        # Construct the INSERT query dynamically.  Be cautious about SQL injection!\n",
    "        #  This example assumes all columns are strings. Adjust as needed for other types.\n",
    "        columns = ','.join(df.columns)\n",
    "        placeholders = ','.join(['%s'] * len(df.columns))\n",
    "        insert_query = f\"\"\"\n",
    "            INSERT INTO formulas ({columns}) VALUES ({placeholders});\n",
    "        \"\"\"\n",
    "        cur.execute(insert_query, tuple(row))\n",
    "\n",
    "    # Commit the changes and close the connection\n",
    "    conn.commit()\n",
    "    print(\"Data inserted successfully!\")\n",
    "\n",
    "except (Exception, psycopg2.Error) as error:\n",
    "    print(\"Error while connecting to PostgreSQL:\", error)\n",
    "finally:\n",
    "    if conn:\n",
    "        cur.close()\n",
    "        conn.close()\n",
    "        print(\"PostgreSQL connection is closed\")\n",
    "\n"
   ]
  }
 ],
 "metadata": {
  "kernelspec": {
   "display_name": ".venv",
   "language": "python",
   "name": "python3"
  },
  "language_info": {
   "codemirror_mode": {
    "name": "ipython",
    "version": 3
   },
   "file_extension": ".py",
   "mimetype": "text/x-python",
   "name": "python",
   "nbconvert_exporter": "python",
   "pygments_lexer": "ipython3",
   "version": "3.12.9"
  }
 },
 "nbformat": 4,
 "nbformat_minor": 2
}
